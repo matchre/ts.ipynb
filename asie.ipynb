{
  "cells": [
    {
      "cell_type": "markdown",
      "source": [
        "# À partir d'un sujet de bac \"Asie Juin 2017\" - Méthode de Monte Carlo\n",
        "\n_écrit par David-Yann VINCENT (académie de Rouen, david-yann.vincent@ac-rouen.fr) sous licence CC BY-NC-SA 3.0 FR (voir ici : https://creativecommons.org/licenses/by-nc-sa/3.0/fr/), merci à Laurent Chéno pour sa relecture attentive._"
      ],
      "metadata": {}
    },
    {
      "cell_type": "markdown",
      "source": [
        "L'objet de l'activité est l'étude des intégrales $I$ et $J$ définies par : $I = \\displaystyle\\int_0^1 \\dfrac{1}{1 + x}\\:\\text{d}x$ et $J = \\displaystyle\\int_0^1 \\dfrac{1}{1 + x^2}\\:\\text{d}x.$\n",
        "\nEn particulier, on s'intéressera aux valeurs de $I$ et $J$ affichées par le calcul formel et à leur exactitude."
      ],
      "metadata": {}
    },
    {
      "cell_type": "markdown",
      "source": [
        "## Partie A : valeur exacte de l'intégrale $I$"
      ],
      "metadata": {}
    },
    {
      "cell_type": "markdown",
      "source": [
        "**Consigne 1**: définir dans la cellule ci-dessous en python la fonction $f$ définie sur $[0;1]$ par $f(x)=\\dfrac{1}{1+x}$."
      ],
      "metadata": {}
    },
    {
      "cell_type": "code",
      "source": [
        "# Ecrire la réponse ci-dessous\n"
      ],
      "outputs": [],
      "execution_count": null,
      "metadata": {
        "collapsed": true
      }
    },
    {
      "cell_type": "markdown",
      "source": [
        "**Consigne 2**: Le module simpy de Python permet d'effectuer des tâches relevant du calcul formel. Par exemple, on peut calculer l'intégrale $\\displaystyle \\int_{-2}^2x^2\\,dx$ en écrivant : \n",
        "\n",
        "`from sympy import * \n",
        "x=symbols('x') \n",
        "integrate(x**2,(x,-2,2))` \n",
        "\n",
        "En vous inspirant de cette syntaxe, afficher la valeur exacte de l'intégrale $I$ et retrouver, à l'écrit, cette valeur par le calcul.\n",
        "\n_Remarque_: Python utilise la notation `log` pour le logarithme népérien (et la notation `log10` pour le logarithme décimal)"
      ],
      "metadata": {}
    },
    {
      "cell_type": "code",
      "source": [
        "# Ecrire le programme python ci-dessous\n"
      ],
      "outputs": [],
      "execution_count": 1,
      "metadata": {
        "collapsed": true
      }
    },
    {
      "cell_type": "markdown",
      "source": [
        "## Partie B : estimation de la valeur de l'intégrale $J$"
      ],
      "metadata": {}
    },
    {
      "cell_type": "markdown",
      "source": [
        "Soit $g$ la fonction définie sur l'intervalle $[0;1]$ par $g(x) = \\dfrac{1}{1 + x^2}$."
      ],
      "metadata": {}
    },
    {
      "cell_type": "markdown",
      "source": [
        "**Consigne 3**: Définir dans la cellule ci-dessous en python la fonction $g$"
      ],
      "metadata": {}
    },
    {
      "cell_type": "code",
      "source": [
        "# Ecrire la réponse ci-dessous\n"
      ],
      "outputs": [],
      "execution_count": 4,
      "metadata": {
        "collapsed": true
      }
    },
    {
      "cell_type": "markdown",
      "source": [
        "On note $\\mathcal{C}_g$ sa courbe représentative dans un repère orthonormé du plan. On a donc : $J = \\displaystyle\\int_0^1 g(x)\\:\\text{d}x$.\n",
        "\n",
        "Le but de cette partie est d'évaluer l'intégrale $J$ à l'aide de la méthode probabiliste décrite ci-après.\n",
        "\n",
        "On choisit au hasard un point M$\\,(x~;~y)$ en tirant de façon indépendante ses coordonnées $x$ et $y$ au hasard selon la loi uniforme sur $[0~;~1]$.\n",
        "\n",
        "On admet que la probabilité $p$ qu'un point tiré de cette manière soit situé sous la courbe \n",
        "$\\mathcal{C}_g$ est égale à l'intégrale $J$."
      ],
      "metadata": {}
    },
    {
      "cell_type": "markdown",
      "source": [
        "**Consigne 4**: Le programme ci-dessous affiche la courbe $\\mathcal{C}_g$ et un point $M$ dont les coordonnées $x$ et $y$ sont tirées au hasard selon la loi uniforme sur $[0;1]$.\n",
        "\nExpliquer à l'écrit les différentes parties du programme."
      ],
      "metadata": {}
    },
    {
      "cell_type": "code",
      "source": [
        "from random import *\n",
        "import matplotlib.pyplot as plt\n",
        "\n",
        "plt.axis([0,1,0,1])\n",
        "plt.grid(True)\n",
        "\n",
        "listeabscisses = [t/100 for t in range(100+1)]\n",
        "listeordonnees = [g(t/100) for t in range(100+1)]\n",
        "plt.plot(listeabscisses,listeordonnees)\n",
        "\n",
        "x=random()\n",
        "y=random()\n",
        "\n",
        "plt.plot(x,y,\"b.\")\n",
        "\nplt.show()"
      ],
      "outputs": [
        {
          "output_type": "display_data",
          "data": {
            "image/png": "[encoded data removed]",
            "text/plain": [
              "<matplotlib.figure.Figure at 0xb44b180c>"
            ]
          },
          "metadata": {}
        }
      ],
      "execution_count": 3,
      "metadata": {}
    },
    {
      "cell_type": "markdown",
      "source": [
        "En pratique, on initialise un compteur $c$ à $0$, on fixe un entier naturel $n$ et on répète $n$ fois le processus suivant :\n",
        "\n",
        "- on choisit au hasard et indépendamment deux nombres $x$ et $y$, selon la loi uniforme sur $[0~;~1]$ ;\n",
        "- si M$\\,(x~;~y)$ est au-dessous de la courbe $\\mathcal{C}_g$ on incrémente le compteur $c$ de 1.\n",
        "\nOn admet que $f = \\dfrac{c}{n}$ est une valeur approchée de $J$. C'est le principe de la méthode dite de **Monte-Carlo**."
      ],
      "metadata": {}
    },
    {
      "cell_type": "markdown",
      "source": [
        "**Consigne 5**: Modifier le programme précédent afin de mettre en oeuvre la méthode de Monte-Carlo. Il faut afficher la courbe $\\mathcal{C}_g$, les $n$ points tirés au hasard (rouge en-dessous de $\\mathcal{C}_g$, bleu au-dessus) et la valeur de $f$."
      ],
      "metadata": {}
    },
    {
      "cell_type": "code",
      "source": [
        "# Ecrire le programme ci-dessous\n"
      ],
      "outputs": [],
      "execution_count": null,
      "metadata": {
        "collapsed": true
      }
    },
    {
      "cell_type": "markdown",
      "source": [
        "**Consigne 6**: Utiliser le programme ci-dessus avec $n=1000$ points et relever la valeur de $f$ obtenue. Donner alors un intervalle de confiance, au niveau de confiance de 95%, de la valeur exacte de $J$."
      ],
      "metadata": {}
    },
    {
      "cell_type": "markdown",
      "source": [
        "**Consigne 7**: Créer ci-dessous un programme qui permette à l'aide du module sympy, comme dans la partie A, d'afficher la valeur de $J$."
      ],
      "metadata": {}
    },
    {
      "cell_type": "code",
      "source": [
        "# Ecrire le programme ci-dessous\n"
      ],
      "outputs": [],
      "execution_count": null,
      "metadata": {
        "collapsed": true
      }
    },
    {
      "cell_type": "markdown",
      "source": [
        "**Consigne 8**: On ne sait pas, avec les outils de calculs de Terminale S, calculer \"à la main\" la valeur exacte de $J$. On doit donc s'en remettre à l'affichage donné par l'ordinateur ...\n",
        "\nLa valeur obtenue à la réponse à la consigne 7 est-elle cohérente avec la valeur de $f$ obtenue à la consigne 6 ? Argumenter la réponse"
      ],
      "metadata": {}
    },
    {
      "cell_type": "markdown",
      "source": [
        "**Consigne 9**: Quelle doit-être, au minimum, la valeur de $n$ pour que l'intervalle de confiance, au niveau de confiance de 95%, ait une amplitude inférieure ou égale à $0,02$ ?"
      ],
      "metadata": {
        "collapsed": true
      }
    },
    {
      "cell_type": "code",
      "source": [],
      "outputs": [],
      "execution_count": null,
      "metadata": {
        "collapsed": true
      }
    }
  ],
  "metadata": {
    "kernelspec": {
      "name": "python3",
      "language": "python",
      "display_name": "Python 3"
    },
    "language_info": {
      "name": "python",
      "version": "3.6.1",
      "mimetype": "text/x-python",
      "codemirror_mode": {
        "name": "ipython",
        "version": 3
      },
      "pygments_lexer": "ipython3",
      "nbconvert_exporter": "python",
      "file_extension": ".py"
    },
    "kernel_info": {
      "name": "python3"
    },
    "nteract": {
      "version": "0.2.0"
    }
  },
  "nbformat": 4,
  "nbformat_minor": 2
}